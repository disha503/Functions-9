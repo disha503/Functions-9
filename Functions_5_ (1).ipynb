{
  "nbformat": 4,
  "nbformat_minor": 0,
  "metadata": {
    "colab": {
      "provenance": []
    },
    "kernelspec": {
      "name": "python3",
      "display_name": "Python 3"
    },
    "language_info": {
      "name": "python"
    }
  },
  "cells": [
    {
      "cell_type": "markdown",
      "source": [
        "1.What is the difference between a function and a method in Python?\n",
        "ans.function is a standalone piece of code that performs a task, often defined using a lambda expression or built-in operations. A method is a function tied to a class or object, called on an instance of that class.\n",
        "Example:\n",
        "Function using lambda\n",
        "greet = lambda name: f\"Hello, {name}!\"\n",
        "print(greet(\"Alice\"))  # Output: Hello, Alice!\n",
        "\n",
        " Method (inside a class, but we'll show calling it)\n",
        "class Person:\n",
        "    def greet(self, name):\n",
        "        return f\"Hello, {name}!\"\n",
        "\n",
        "person = Person()\n",
        "print(person.greet(\"Bob\"))  # Output: Hello, Bob!\n",
        "2.Explain the concept of function arguments and parameters in Python.\n",
        "ans.Parametersare the variables a function expects to receive, defined in its lambda expression or structure. **Arguments** are the actual values you pass when calling the function.\n",
        "Example:\n",
        "add = lambda x, y: x + y  # 'x' and 'y' are parameters\n",
        "print(add(3, 5))  # 3 and 5 are arguments, Output: 8\n",
        "\n",
        "3 What are the different ways to define and call a function in Python?\n",
        "ans.Without using `def`, you can use:\n",
        "Lambda functions**: Short, anonymous functions.\n",
        "Built-in functions**: Like `map()` or `filter()`.\n",
        "Variable-length arguments**: Using `*args` or `**kwargs` in lambdas (limited use).\n",
        "\n",
        "Example:\n",
        " Lambda function\n",
        "greet = lambda name: f\"Hello, {name}!\"\n",
        "print(greet(\"Alice\"))  # Output: Hello, Alice!\n",
        "\n",
        "Lambda with default-like behavior (using conditional)\n",
        "greet_default = lambda name=\"Guest\": f\"Hello, {name}!\"\n",
        "print(greet_default())  # Output: Hello, Guest!\n",
        "\n",
        "Variable-length using list operations\n",
        "sum_numbers = lambda *args: sum(args)\n",
        "print(sum_numbers(1, 2, 3))  # Output: 6\n",
        "\n",
        "4.What is the purpose of the `return` statement in a Python function?\n",
        "\n",
        "The `return` statement sends a value back to the caller. In lambda functions, the expression after the colon is implicitly returned. Without `return` in other contexts, `None` is returned.\n",
        "Example:\n",
        "square = lambda x: x * x\n",
        "print(square(4))  # Output: 16\n",
        "\n",
        "5.What are iterators in Python and how do they differ from iterables?\n",
        "An **iterable** is an object you can loop over (e.g., lists, strings). An **iterator** is created from an iterable using `iter()` and gives values one by one with `next()`.\n",
        "\n",
        "Example:\n",
        "my_list = [1, 2, 3]  # Iterable\n",
        "iterator = iter(my_list)  # Iterator\n",
        "print(next(iterator))  # Output: 1\n",
        "print(next(iterator))  # Output: 2\n",
        "\n",
        "6.Explain the concept of generators in Python and how they are defined.\n",
        "\n",
        "Since `def` is not allowed, we can't define generators (which require `def` and `yield`). Instead, I'll explain: Generators produce values one at a time, saving memory, typically defined with `def` and `yield`. Without `def`, we can mimic generator-like behavior using `map` or list comprehensions for small datasets.\n",
        "\n",
        "Example (mimicking generator with `map`):\n",
        " Mimic generating squares one at a time\n",
        "squares = map(lambda x: x**2, range(3))\n",
        "print(list(squares))  # Output: [0, 1, 4]\n",
        "\n",
        "7.What are the advantages of using generators over regular functions?\n",
        "\n",
        "- Memory Efficiency: Generators yield one item at a time, unlike lists that store everything.\n",
        "- Lazy Evaluation: Values are computed only when needed.\n",
        "- Simpler Iteration: Easier to handle sequences.\n",
        "\n",
        "Example(mimicking with `map`):\n",
        "List stores all values\n",
        "squares_list = [x**2 for x in range(3)]  # [0, 1, 4]\n",
        "Map generates one at a time\n",
        "squares_map = map(lambda x: x**2, range(3))\n",
        "print(list(squares_map))  # Output: [0, 1, 4]\n",
        "\n",
        "8.What is a lambda function in Python and when is it typically used?\n",
        "\n",
        "A lambda functionis a small, anonymous function defined with `lambda`. It's used for short, simple operations, often with `map()`, `filter()`, or sorting.\n",
        "\n",
        "Example:\n",
        "double = lambda x: x * 2\n",
        "print(double(5))  # Output: 10\n",
        "\n",
        "9.Explain the purpose and usage of the `map()` function in Python.\n",
        "\n",
        "The `map()` function applies a given function (e.g., lambda) to each item in an iterable, returning a map object (iterator).\n",
        "\n",
        "Example:\n",
        "numbers = [1, 2, 3]\n",
        "squares = map(lambda x: x**2, numbers)\n",
        "print(list(squares))  # Output: [1, 4, 9]\n",
        " 10.What is the difference between `map()`, `reduce()`, and `filter()` functions in Python?\n",
        "\n",
        "- `map()`: Applies a function to every item in an iterable.\n",
        "- `reduce()`: Combines all items in an iterable into a single value using a function (from `functools`).\n",
        "- `filter()`: Keeps only items from an iterable that satisfy a condition.\n",
        "\n",
        "Example:\n",
        "from functools import reduce\n",
        "numbers = [1, 2, 3]\n",
        "map: squares each number\n",
        "print(list(map(lambda x: x**2, numbers)))  # Output: [1, 4, 9]\n",
        "reduce: sums all numbers\n",
        "print(reduce(lambda x, y: x + y, numbers))  # Output: 6\n",
        "filter: keeps even numbers\n",
        "print(list(filter(lambda x: x % 2 == 0, numbers)))  # Output: [2]\n",
        "\n",
        " 11.Internal mechanism for sum operation using `reduce` on list `[47, 11, 42, 13]`\n",
        "\n",
        "The `reduce()` function applies a lambda function (e.g., `lambda x, y: x + y`) to pairs of elements, reducing the list to a single value.\n",
        "\n",
        "Step-by-Step:\n",
        "- List: `[47, 11, 42, 13]`\n",
        "- Step 1: `reduce` takes first two elements: `47 + 11 = 58`\n",
        "- Step 2: Takes result and next element: `58 + 42 = 100`\n",
        "- Step 3: Takes result and last element: `100 + 13 = 113`\n",
        "- Final result: `113`\n",
        "Code:\n",
        "from functools import reduce\n",
        "numbers = [47, 11, 42, 13]\n",
        "result = reduce(lambda x, y: x + y, numbers)\n",
        "print(result)  # Output: 113\n",
        "\n",
        "\n",
        "\n",
        "\n"
      ],
      "metadata": {
        "id": "cwppjj5rreQc"
      }
    },
    {
      "cell_type": "markdown",
      "source": [
        "1.What is the difference between a function and a method in Python?\n",
        "\n"
      ],
      "metadata": {
        "id": "c0-0j-s1AEVM"
      }
    },
    {
      "cell_type": "code",
      "source": [
        "numbers = [1, 2, 3, 4, 5, 6]\n",
        "even_sum = sum(filter(lambda x: x % 2 == 0, numbers))\n",
        "print(even_sum)\n"
      ],
      "metadata": {
        "colab": {
          "base_uri": "https://localhost:8080/"
        },
        "id": "cP0g7wyTlAbM",
        "outputId": "b23d54c2-79e8-432d-bfab-85c15afd4dac"
      },
      "execution_count": null,
      "outputs": [
        {
          "output_type": "stream",
          "name": "stdout",
          "text": [
            "12\n"
          ]
        }
      ]
    },
    {
      "cell_type": "markdown",
      "source": [
        "2. Create a Python function that accepts a string and returns the reverse of that string."
      ],
      "metadata": {
        "id": "g700GRwImN2L"
      }
    },
    {
      "cell_type": "code",
      "source": [
        "reverse_string = lambda s: s[::-1]\n",
        "print(reverse_string(\"hello\"))"
      ],
      "metadata": {
        "colab": {
          "base_uri": "https://localhost:8080/"
        },
        "id": "AHkyThFQmr0w",
        "outputId": "06ad7626-1acf-4b83-b5d8-be3ca419a287"
      },
      "execution_count": null,
      "outputs": [
        {
          "output_type": "stream",
          "name": "stdout",
          "text": [
            "olleh\n"
          ]
        }
      ]
    },
    {
      "cell_type": "markdown",
      "source": [
        "3. Implement a Python function that takes a list of integers and returns a new list containing the squares of\n",
        "each number."
      ],
      "metadata": {
        "id": "OjulUdr7m7Ll"
      }
    },
    {
      "cell_type": "code",
      "source": [
        "numbers = [1, 2, 3]\n",
        "squares = list(map(lambda x: x**2, numbers))\n",
        "print(squares)"
      ],
      "metadata": {
        "colab": {
          "base_uri": "https://localhost:8080/"
        },
        "id": "Ud9vG2MknCnk",
        "outputId": "74609434-1718-4bce-f1c3-86beecb3ea8e"
      },
      "execution_count": null,
      "outputs": [
        {
          "output_type": "stream",
          "name": "stdout",
          "text": [
            "[1, 4, 9]\n"
          ]
        }
      ]
    },
    {
      "cell_type": "markdown",
      "source": [
        "4. Write a Python function that checks if a given number is prime or not from 1 to 200."
      ],
      "metadata": {
        "id": "pd0TjPDynMEY"
      }
    },
    {
      "cell_type": "code",
      "source": [
        "is_prime = lambda n: n > 1 and all(n % i != 0 for i in range(2, int(n**0.5) + 1))\n",
        "print(is_prime(17))\n",
        "print(is_prime(4))"
      ],
      "metadata": {
        "colab": {
          "base_uri": "https://localhost:8080/"
        },
        "id": "u5kL2V3EnSWB",
        "outputId": "352e5cde-e2ed-47aa-e369-140a6bac25be"
      },
      "execution_count": null,
      "outputs": [
        {
          "output_type": "stream",
          "name": "stdout",
          "text": [
            "True\n",
            "False\n"
          ]
        }
      ]
    },
    {
      "cell_type": "markdown",
      "source": [
        "5. Create an iterator class in Python that generates the Fibonacci sequence up to a specified number of\n",
        "terms."
      ],
      "metadata": {
        "id": "4mJ42S3bnfME"
      }
    },
    {
      "cell_type": "code",
      "source": [
        "fib = [0, 1]\n",
        "for i in range(5):  # Up to 5 terms\n",
        "    fib.append(fib[-1] + fib[-2])\n",
        "print(fib[:5])"
      ],
      "metadata": {
        "colab": {
          "base_uri": "https://localhost:8080/"
        },
        "id": "J21wMKTEnrIi",
        "outputId": "4f0e1528-5f4e-445d-d94a-4b31c25d84e7"
      },
      "execution_count": null,
      "outputs": [
        {
          "output_type": "stream",
          "name": "stdout",
          "text": [
            "[0, 1, 1, 2, 3]\n"
          ]
        }
      ]
    },
    {
      "cell_type": "markdown",
      "source": [
        "6. Write a generator function in Python that yields the powers of 2 up to a given exponent."
      ],
      "metadata": {
        "id": "6-bgrMzWnyRK"
      }
    },
    {
      "cell_type": "code",
      "source": [
        "powers_of_2 = lambda n: list(map(lambda x: 2**x, range(n + 1)))\n",
        "print(powers_of_2(3))"
      ],
      "metadata": {
        "colab": {
          "base_uri": "https://localhost:8080/"
        },
        "id": "RWTwAhv7oJGu",
        "outputId": "27c95bcd-4189-4e47-9a76-8d7880631785"
      },
      "execution_count": null,
      "outputs": [
        {
          "output_type": "stream",
          "name": "stdout",
          "text": [
            "[1, 2, 4, 8]\n"
          ]
        }
      ]
    },
    {
      "cell_type": "markdown",
      "source": [
        "7. Use a lambda function in Python to sort a list of tuples based on the second element of each tuple."
      ],
      "metadata": {
        "id": "Kc1JWw_5oOfk"
      }
    },
    {
      "cell_type": "code",
      "source": [
        "tuples = [(1, 'b'), (2, 'a'), (3, 'c')]\n",
        "sorted_tuples = sorted(tuples, key=lambda x: x[1])\n",
        "print(sorted_tuples)"
      ],
      "metadata": {
        "colab": {
          "base_uri": "https://localhost:8080/"
        },
        "id": "eFdcztQkof1y",
        "outputId": "c7d9ea44-f3b0-483a-972a-a39ab7f781fc"
      },
      "execution_count": null,
      "outputs": [
        {
          "output_type": "stream",
          "name": "stdout",
          "text": [
            "[(2, 'a'), (1, 'b'), (3, 'c')]\n"
          ]
        }
      ]
    },
    {
      "cell_type": "markdown",
      "source": [
        "8. Implement a generator function that reads a file line by line and yields each line as a string."
      ],
      "metadata": {
        "id": "XpJ7__Hdo0V7"
      }
    },
    {
      "cell_type": "code",
      "source": [
        "text = \"line1\\nline2\\nline3\"\n",
        "lines = map(lambda x: x, text.split(\"\\n\"))\n",
        "print(list(lines))"
      ],
      "metadata": {
        "colab": {
          "base_uri": "https://localhost:8080/"
        },
        "id": "dkZfGfBspBSQ",
        "outputId": "629aa203-2e97-48c2-f176-0c8aed96ea01"
      },
      "execution_count": null,
      "outputs": [
        {
          "output_type": "stream",
          "name": "stdout",
          "text": [
            "['line1', 'line2', 'line3']\n"
          ]
        }
      ]
    },
    {
      "cell_type": "markdown",
      "source": [
        "9. Write a Python program that uses `map()` to convert a list of temperatures from Celsius to Fahrenheit."
      ],
      "metadata": {
        "id": "NEYb_UfCpOOs"
      }
    },
    {
      "cell_type": "code",
      "source": [
        "celsius = [0, 20, 37]\n",
        "fahrenheit = list(map(lambda c: (c * 9/5) + 32, celsius))\n",
        "print(fahrenheit)"
      ],
      "metadata": {
        "colab": {
          "base_uri": "https://localhost:8080/"
        },
        "id": "LCBI3Qp1ppWo",
        "outputId": "138e8e50-7cb7-4432-9983-4ea8f06d22ce"
      },
      "execution_count": null,
      "outputs": [
        {
          "output_type": "stream",
          "name": "stdout",
          "text": [
            "[32.0, 68.0, 98.6]\n"
          ]
        }
      ]
    },
    {
      "cell_type": "markdown",
      "source": [
        "10.. Create a Python program that uses `filter()` to remove all the vowels from a given string."
      ],
      "metadata": {
        "id": "C1HRBxqupvuU"
      }
    },
    {
      "cell_type": "code",
      "source": [
        "remove_vowels = lambda s: ''.join(filter(lambda c: c.lower() not in 'aeiou', s))\n",
        "print(remove_vowels(\"hello\"))"
      ],
      "metadata": {
        "colab": {
          "base_uri": "https://localhost:8080/"
        },
        "id": "qgKkixFVp6pm",
        "outputId": "efe719a6-c326-4656-a4a1-0a5fa232b927"
      },
      "execution_count": null,
      "outputs": [
        {
          "output_type": "stream",
          "name": "stdout",
          "text": [
            "hll\n"
          ]
        }
      ]
    },
    {
      "cell_type": "markdown",
      "source": [
        "11.11) Imagine an accounting routine used in a book shop. It works on a list with sublists, which look like this:\n",
        "Write a Python program, which returns a list with 2-tuples. Each tuple consists of the order number and the\n",
        "product of the price per item and the quantity. The product should be increased by 10,- € if the value of the\n",
        "order is smaller than 100,00 €.\n",
        "\n",
        "Write a Python program using lambda and map."
      ],
      "metadata": {
        "id": "yvAnDbfop84T"
      }
    },
    {
      "cell_type": "code",
      "source": [
        "result = list(map(\n",
        "    lambda order: (\n",
        "        order[0],  # Order number\n",
        "        order[2] * order[3] + 10 if order[2] * order[3] < 100 else order[2] * order[3]\n",
        "    ),\n",
        "    orders\n",
        "))\n",
        "print(result)"
      ],
      "metadata": {
        "colab": {
          "base_uri": "https://localhost:8080/"
        },
        "id": "NIJ0GbCfql0w",
        "outputId": "62559ed4-85ea-4829-d06e-f9475f9f1b2a"
      },
      "execution_count": null,
      "outputs": [
        {
          "output_type": "stream",
          "name": "stdout",
          "text": [
            "[(34587, 163.8), (98762, 284.0), (77226, 108.85000000000001), (88112, 84.97)]\n"
          ]
        }
      ]
    }
  ]
}